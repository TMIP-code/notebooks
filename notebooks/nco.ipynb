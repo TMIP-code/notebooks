{
 "cells": [
  {
   "cell_type": "code",
   "execution_count": 1,
   "id": "a6b5f3d4-45bb-4d1b-9d81-c27a96535051",
   "metadata": {
    "execution": {
     "iopub.execute_input": "2025-09-03T01:01:57.808604Z",
     "iopub.status.busy": "2025-09-03T01:01:57.808146Z",
     "iopub.status.idle": "2025-09-03T01:02:06.785081Z",
     "shell.execute_reply": "2025-09-03T01:02:06.783591Z",
     "shell.execute_reply.started": "2025-09-03T01:01:57.808553Z"
    }
   },
   "outputs": [
    {
     "name": "stdout",
     "output_type": "stream",
     "text": [
      "------------------------- \u001b[1;94m/g/data/xp65/public/modules\u001b[0m --------------------------\u001b[m\n",
      "conda/access-med-0.10                              conda/benchcab-4.2.3      \u001b[m\n",
      "conda/access-med-0.11                              conda/common_v3.save      \u001b[m\n",
      "conda/access-med-0.12                              conda/esmvaltool-0.1      \u001b[m\n",
      "conda/access-vis-0.1                               conda/esmvaltool-0.2      \u001b[m\n",
      "conda/access-vis-0.2                               conda/esmvaltool-0.3      \u001b[m\n",
      "conda/access-vis-0.3                               conda/esmvaltool-0.4      \u001b[m\n",
      "conda/access-vis-0.4\u001b[2m(\u001b[22m\u001b[95maccess-vis\u001b[0m\u001b[2m)\u001b[22m                   conda/esmvaltool-0.5      \u001b[m\n",
      "conda/analysis3-24.07                              conda/esmvaltool-0.6      \u001b[m\n",
      "conda/analysis3-24.11                              conda/esmvaltool-0.7      \u001b[m\n",
      "conda/analysis3-24.12                              conda/esmvaltool-0.8      \u001b[m\n",
      "conda/analysis3-25.01                              conda/modulerc.save       \u001b[m\n",
      "conda/analysis3-25.02                              esmvaltool-workflow/v1.3  \u001b[m\n",
      "conda/analysis3-25.03                              esmvaltool/v1.3           \u001b[m\n",
      "conda/analysis3-25.04                              ilamb-workflow/v1.0       \u001b[m\n",
      "conda/analysis3-25.05                              nci-scripts/0.1           \u001b[m\n",
      "conda/analysis3-25.06                              \u001b[m\n",
      "conda/analysis3-25.07\u001b[2m(\u001b[22m\u001b[95manalysis3\u001b[0m\u001b[2m:\u001b[22m\u001b[95mesmvaltool\u001b[0m\u001b[2m:\u001b[22m\u001b[95milamb\u001b[0m\u001b[2m)\u001b[22m  \u001b[m\n",
      "conda/analysis3-25.08                              \u001b[m\n",
      "conda/analysis3-25.09                              \u001b[m\n",
      "conda/analysis3_edge-25.03                         \u001b[m\n",
      "conda/analysis3_edge-25.04                         \u001b[m\n",
      "conda/analysis3_edge-25.05                         \u001b[m\n",
      "\u001b[K\u001b[?1l\u001b>"
     ]
    }
   ],
   "source": [
    "# !module avail <- don't do this... Hangs for some reason ¯\\_(ツ)_/¯"
   ]
  },
  {
   "cell_type": "code",
   "execution_count": 2,
   "id": "bede6f21-d8a5-4229-aa4a-2c0af258ed79",
   "metadata": {
    "execution": {
     "iopub.execute_input": "2025-09-03T01:02:09.555255Z",
     "iopub.status.busy": "2025-09-03T01:02:09.554560Z",
     "iopub.status.idle": "2025-09-03T01:02:11.710079Z",
     "shell.execute_reply": "2025-09-03T01:02:11.708186Z",
     "shell.execute_reply.started": "2025-09-03T01:02:09.555198Z"
    }
   },
   "outputs": [],
   "source": [
    "!module load nco"
   ]
  },
  {
   "cell_type": "code",
   "execution_count": 3,
   "id": "6c576abd-e130-4ed3-b82d-2b3c9a35d6f1",
   "metadata": {
    "execution": {
     "iopub.execute_input": "2025-09-03T01:02:14.653786Z",
     "iopub.status.busy": "2025-09-03T01:02:14.653253Z",
     "iopub.status.idle": "2025-09-03T01:02:14.840584Z",
     "shell.execute_reply": "2025-09-03T01:02:14.839107Z",
     "shell.execute_reply.started": "2025-09-03T01:02:14.653730Z"
    }
   },
   "outputs": [
    {
     "name": "stdout",
     "output_type": "stream",
     "text": [
      "foo\n"
     ]
    }
   ],
   "source": [
    "!echo foo"
   ]
  },
  {
   "cell_type": "code",
   "execution_count": 6,
   "id": "7eba414f-2fbb-4024-b6e1-6aaa3f147b51",
   "metadata": {
    "execution": {
     "iopub.execute_input": "2025-09-03T01:05:00.861156Z",
     "iopub.status.busy": "2025-09-03T01:05:00.860690Z",
     "iopub.status.idle": "2025-09-03T01:05:02.516229Z",
     "shell.execute_reply": "2025-09-03T01:05:02.514671Z",
     "shell.execute_reply.started": "2025-09-03T01:05:00.861104Z"
    }
   },
   "outputs": [
    {
     "name": "stdout",
     "output_type": "stream",
     "text": [
      "\u001b[36m/g/data/cj50/\u001b[0m\n",
      "├── \u001b[36maccess-nri\u001b[0m\n",
      "├── \u001b[36maccess-om2\u001b[0m\n",
      "├── \u001b[36madmin\u001b[0m\n",
      "└── \u001b[36mcatalog\u001b[0m\n",
      "\n",
      "4 directories\n"
     ]
    }
   ],
   "source": [
    "!tree -d -L 1 /g/data/cj50/"
   ]
  },
  {
   "cell_type": "code",
   "execution_count": 11,
   "id": "78149f5b-faeb-4548-9475-c55c75772533",
   "metadata": {
    "execution": {
     "iopub.execute_input": "2025-09-03T01:06:12.976944Z",
     "iopub.status.busy": "2025-09-03T01:06:12.976593Z",
     "iopub.status.idle": "2025-09-03T01:06:13.163972Z",
     "shell.execute_reply": "2025-09-03T01:06:13.162580Z",
     "shell.execute_reply.started": "2025-09-03T01:06:12.976916Z"
    }
   },
   "outputs": [
    {
     "name": "stdout",
     "output_type": "stream",
     "text": [
      "jra55v13_ryf8485\t     jra55v13_ryf8485_freshRCP85\n",
      "jra55v13_ryf8485_freshRCP45  readme.txt\n"
     ]
    }
   ],
   "source": [
    "!ls /g/data/cj50/access-om2/cf-compliant/access-om2-01/v20200608"
   ]
  },
  {
   "cell_type": "code",
   "execution_count": 12,
   "id": "39eb3a7c-0b7f-49e4-b6b0-722f58eda740",
   "metadata": {
    "execution": {
     "iopub.execute_input": "2025-09-03T01:06:35.177324Z",
     "iopub.status.busy": "2025-09-03T01:06:35.176833Z",
     "iopub.status.idle": "2025-09-03T01:06:35.385436Z",
     "shell.execute_reply": "2025-09-03T01:06:35.383935Z",
     "shell.execute_reply.started": "2025-09-03T01:06:35.177266Z"
    }
   },
   "outputs": [
    {
     "name": "stdout",
     "output_type": "stream",
     "text": [
      "Consortium for Ocean-Sea Ice Modelling in Australia (COSIMA) - collection v1.0\n",
      "\n",
      "These simulations were run by Ruth Moorman and Dr Andrew Kiss of the Australian National University as part of the Consortium for Ocean-Sea Ice Modelling in Australia (COSIMA).\n",
      "\n",
      "The data is all output from the global ocean-sea ice model ACCESS-OM2, based on ocean (MOM5) and sea ice (CICE5) models forced with a prescribed atmosphere, JRA55-do v1.3.\n",
      "\n",
      "There are three experiments corresponding to three 0.1 degree (access-om2-01) simulations with varying Antarctic Freshwater runoff forcing.\n",
      "\n",
      "Details are in Ruth Moorman, Adele K. Morrison, and Andrew McC. Hogg  Thermal responses to Antarctic ice shelf melt in an eddy rich global ocean–sea-ice model, J. Climate, https://doi.org/10.1175/JCLI-D-19-0846.1\n",
      "\n",
      "Each experiment directory contains subdirectories for ice and ocean data. Within each of these subdirectories are subdirectories for each variable, which contain data files (netCDF4 format) that are split by time.\n",
      "\n",
      "The naming convention is as follows:\n",
      "\n",
      "<configuration>/<experiment_id>/<model_component>/<variable>/<variable>_<experiment>_<startdate>_<enddate>.nc\n",
      "\n",
      "\n",
      "e.g.  access-om2-01/jra55v13_ryf8485/ocean/age-global/age-global_access-om2-01_194001_194006.nc\n",
      "\n",
      "where\n",
      "\n",
      "  configuration   = access-om2-01\n",
      "  experiment_id   = jra55v13_ryf8485\n",
      "  model_component = ocean\n",
      "  variable        = age-global (actual variable name in file is age_global but with dash substituted for underscore in file name)\n",
      "  startdate       = 194001 (January 1940)\n",
      "  enddate         = 194006 (June 1940)\n",
      "\n",
      "\n",
      "Each experiment runs for 10-14 years.\n",
      "\n",
      "Ice variables:\n",
      "\n",
      "  aice_m  : ice area  (aggregate)\n",
      "  hi_m    : grid cell mean ice thickness (m)\n",
      "  hs_m    : grid cell mean snow thickness (m)\n",
      "  vicen_m : ice volume, categories (m)\n",
      "\n",
      "Ocean variables:\n",
      "\n",
      "  3D (on depth)\n",
      "\n",
      "  age_global       : Age (global) (yr)\n",
      "  diff_cbt_t       : total vert diff_cbt(temp) (w/o neutral included) (m^2/s)\n",
      "  pot_rho_0        : potential density referenced to 0 dbar (kg/m^3)\n",
      "  pot_rho_2        : potential density referenced to 2000 dbar (kg/m^3)\n",
      "  pot_temp         : Potential temperature (degrees K)\n",
      "  salt             : Practical Salinity (psu)\n",
      "  temp             : Conservative temperature (deg_C)\n",
      "  temp_xflux_adv   : cp*rho*dzt*dyt*u*temp (Watts)\n",
      "  temp_yflux_adv   : cp*rho*dzt*dxt*v*temp (Watts)\n",
      "  tx_trans         : T-cell i-mass transport (kg/s)\n",
      "  ty_trans_submeso : T-cell mass j-transport from submesoscale param (kg/s)\n",
      "  ty_trans         : T-cell j-mass transport (kg/s)\n",
      "  u                : i-current (m/sec)\n",
      "  vert_pv          : vertical piece of Ertel PV\n",
      "  v                : j-current (m/sec)\n",
      "\n",
      "  3D (on potential density surfaces)\n",
      "\n",
      "  tx_trans_rho          : T-cell i-mass transport on pot_rho (kg/s)\n",
      "  ty_trans_nrho_submeso : T-cell j-mass transport from submesoscale param on neutral rho (kg/s)\n",
      "  ty_trans_rho          : T-cell j-mass transport on pot_rho (kg/s)\n",
      "\n",
      "  2D\n",
      "\n",
      "  bmf_u           : Bottom u-stress via bottom drag (N/m^2)\n",
      "  bmf_v           : Bottom v-stress via bottom drag (N/m^2)\n",
      "  evap            : mass flux from evaporation/condensation (>0 enters ocean) ((kg/m^3)*(m/sec))\n",
      "  melt            : water flux transferred with sea ice form/melt (>0 enters ocean) ((kg/m^3)*(m/sec))\n",
      "  mld             : mixed layer depth determined by density criteria (m)\n",
      "  pme_river       : mass flux of precip-evap+river via sbc (liquid, frozen, evaporation) ((kg/m^3)*(m/sec))\n",
      "  river           : mass flux of river (runoff + calving) entering ocean ((kg/m^3)*(m/sec))\n",
      "  runoff          : mass flux of liquid river runoff entering ocean ((kg/m^3)*(m/sec))\n",
      "  sea_levelsq     : square of effective sea level (eta_t + patm/(rho0*g)) on T cells (m^2)\n",
      "  surface_salt    : Practical Salinity (psu)\n",
      "  surface_temp    : Conservative temperature (deg_C)\n",
      "  swflx           : shortwave flux into ocean (>0 heats ocean) (W/m^2)\n",
      "  tau_x           : i-directed wind stress forcing u-velocity (N/m^2)\n",
      "  tau_y           : j-directed wind stress forcing v-velocity (N/m^2)\n",
      "  tx_trans_int_z  : T-cell i-mass transport vertically summed (kg/s)\n",
      "  ty_trans_int_z  : T-cell j-mass transport vertically summed (kg/s)\n",
      "  sfc_hflux_from_runoff : heat flux (relative to 0C) from liquid river runoff (Watts/m^2)\n",
      "  sfc_hflux_pme         : heat flux (relative to 0C) from pme transfer of water across ocean surface (Watts/m^2)\n",
      "  sfc_salt_flux_coupler : sfc_salt_flux_coupler\n",
      "  sfc_salt_flux_ice     : sfc_salt_flux_ice (kg/(m^2*sec))\n",
      "  sfc_salt_flux_restore : sfc_salt_flux_restore\n",
      "  temp_yflux_adv_int_z      : z-integral of cp*rho*dxt*v*temp (Watts)\n",
      "  \n",
      "For more information on these models please see our public website or github repository:\n",
      "http://cosima.org.au/index.php/models/\n",
      "https://github.com/OceansAus/access-om2\n",
      "\n",
      "Contact: Andy.Hogg@anu.edu.au for any question on the dataset content and provenance\n",
      "         paola.petrelli@utas.edu.au for questions or issues with file accessibility\n",
      "\n",
      "Citation: Kiss et al., ACCESS-OM2 v1.0: A Global Ocean-Sea Ice Model at Three Resolutions, Geosci. Model Dev. https://doi.org/10.5194/gmd-2019-106\n",
      "\n"
     ]
    }
   ],
   "source": [
    "!cat /g/data/cj50/access-om2/cf-compliant/access-om2-01/v20200608/readme.txt"
   ]
  },
  {
   "cell_type": "code",
   "execution_count": 17,
   "id": "1a371059-6e63-4752-9b34-d49218293d2e",
   "metadata": {
    "execution": {
     "iopub.execute_input": "2025-09-03T01:08:50.543736Z",
     "iopub.status.busy": "2025-09-03T01:08:50.543242Z",
     "iopub.status.idle": "2025-09-03T01:08:50.761811Z",
     "shell.execute_reply": "2025-09-03T01:08:50.760299Z",
     "shell.execute_reply.started": "2025-09-03T01:08:50.543681Z"
    }
   },
   "outputs": [
    {
     "name": "stdout",
     "output_type": "stream",
     "text": [
      "total 1.3M\n",
      "drwxrws---+ 2 akm157 cj50  33K Jul 17 16:16 atmosphere\n",
      "drwxrws---+ 3 akm157 cj50  89K Jul 17 16:16 ice\n",
      "drwxrws---+ 2 akm157 cj50  33K Jul 17 16:16 ocean\n",
      "-rw-rwx---+ 1 akm157 cj50 8.9K Jul 16 17:08 access-om2.err\n",
      "-rw-rwx---+ 1 akm157 cj50  333 Jul 16 17:08 accessom2.nml\n",
      "-rw-rwx---+ 1 akm157 cj50 944K Jul 16 17:08 access-om2.out\n",
      "-rw-rwx---+ 1 akm157 cj50 1.3K Jul 16 17:08 config.yaml\n",
      "-rw-rwx---+ 1 akm157 cj50 9.2K Jul 16 17:08 namcouple\n"
     ]
    }
   ],
   "source": [
    "!ls -lcth /g/data/cj50/access-om2/raw-output/access-om2-01/01deg_jra55v13_ryf9091/output000"
   ]
  },
  {
   "cell_type": "code",
   "execution_count": 18,
   "id": "38e24f9c-6f04-4bcd-9125-17c1f7cea64c",
   "metadata": {
    "execution": {
     "iopub.execute_input": "2025-09-03T01:09:17.255122Z",
     "iopub.status.busy": "2025-09-03T01:09:17.254646Z",
     "iopub.status.idle": "2025-09-03T01:09:17.450826Z",
     "shell.execute_reply": "2025-09-03T01:09:17.449041Z",
     "shell.execute_reply.started": "2025-09-03T01:09:17.255067Z"
    }
   },
   "outputs": [
    {
     "name": "stdout",
     "output_type": "stream",
     "text": [
      "total 13G\n",
      "-rw-rwx---+ 1 akm157 cj50  644 Jul 16 17:08 data_table\n",
      "-rw-rwx---+ 1 akm157 cj50  11K Jul 16 17:08 diag_table\n",
      "-rw-rwx---+ 1 akm157 cj50 7.5K Jul 16 17:08 field_table\n",
      "-rw-rwx---+ 1 akm157 cj50  13K Jul 16 17:08 input.nml\n",
      "-rw-rwx---+ 1 akm157 cj50 520M Jul 16 17:08 o2i.nc\n",
      "-rw-rwx---+ 1 akm157 cj50  73M Jul 16 17:08 ocean_grid.nc\n",
      "-rw-rwx---+ 1 akm157 cj50 1.1G Jul 16 17:08 ocean_month.nc\n",
      "-rw-rwx---+ 1 akm157 cj50  13G Jul 16 17:08 ocean.nc\n",
      "-rw-rwx---+ 1 akm157 cj50 144K Jul 16 17:08 ocean_scalar.nc\n",
      "-rw-rwx---+ 1 akm157 cj50   60 Jul 16 17:08 time_stamp.out\n"
     ]
    }
   ],
   "source": [
    "!ls -lcth /g/data/cj50/access-om2/raw-output/access-om2-01/01deg_jra55v13_ryf9091/output000/ocean/"
   ]
  },
  {
   "cell_type": "code",
   "execution_count": null,
   "id": "ca477c79-890d-4581-b768-a54895476242",
   "metadata": {
    "execution": {
     "iopub.execute_input": "2025-09-03T01:09:38.870681Z",
     "iopub.status.busy": "2025-09-03T01:09:38.870128Z"
    }
   },
   "outputs": [],
   "source": [
    "!ncdump /g/data/cj50/access-om2/raw-output/access-om2-01/01deg_jra55v13_ryf9091/output000/ocean/ocean.nc"
   ]
  },
  {
   "cell_type": "code",
   "execution_count": null,
   "id": "9feafd4d-e05e-4f71-9937-a618e181b7fd",
   "metadata": {},
   "outputs": [],
   "source": []
  }
 ],
 "metadata": {
  "kernelspec": {
   "display_name": "Python [conda env:access-vis]",
   "language": "python",
   "name": "conda-env-access-vis-py"
  },
  "language_info": {
   "codemirror_mode": {
    "name": "ipython",
    "version": 3
   },
   "file_extension": ".py",
   "mimetype": "text/x-python",
   "name": "python",
   "nbconvert_exporter": "python",
   "pygments_lexer": "ipython3",
   "version": "3.11.12"
  }
 },
 "nbformat": 4,
 "nbformat_minor": 5
}
